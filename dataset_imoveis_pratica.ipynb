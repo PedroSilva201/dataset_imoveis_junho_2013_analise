# Serve para fazer a instalação das bibliotecas necessarias para poder ser usados posteriomente
pip install gspread pandas oauth2client

# Fará a leitura dos dados por meio deste arquivo abaixo
import pandas as pd
url = "https://drive.google.com/uc?export=download&id=1rJoAuu1u_2DfDx9EFTSUcRgK5bm8vEC-"
df = pd.read_csv(url)

print(df.head())

# Dataset fará a leitura dos dados com base na comparação de IMOBILIARIA e o nome da mesma, isso vale tambem para BAIRRO e nome do bairro e REGIÃO e nome da região.
# Filtra o DataFrame para incluir apenas as linhas onde a coluna 'Bairro' é 'Desconhecido'
registros_desconhecidos = df[df['IMOBILIARIA'] == 'Celeste']

# Exibe os registros encontrados
print(registros_desconhecidos)

# Aqui ele fará a leitura com base no plano cartesiano entre a relação de FORMA E MODELO, mas podendo ser expandido para FORMA E BAIRRO, FORMA E REGIÃO, FORMA E IMOBILIARIA
  # Verifica se o DataFrame df existe e não está vazio e se as colunas 'FORMA' e 'MODELO' existem
if 'df' in globals() and not df.empty and 'MODELO' in df.columns and 'FORMA' in df.columns:
    # Cria a tabela cruzada de 'FORMA' e 'MODELO'
    # Isso contará quantas vezes cada combinação de Forma e Modelo aparece
    tabela_forma_modelo = pd.crosstab(df['MODELO'], df['FORMA'])

    # Exibe a tabela cruzada
    print("Tabela Cruzada de FORMA por MODELO:")
    print(tabela_forma_modelo)

    # (Opcional) Se quiser ver a porcentagem em vez da contagem
    # tabela_forma_modelo_pct = pd.crosstab(df['FORMA'], df['MODELO'], normalize=True)
    # print("\nTabela Cruzada de FORMA por MODELO (Porcentagem):")
    # print(tabela_forma_modelo_pct)

else:
    print("DataFrame 'df' não foi carregado, está vazio ou as colunas 'MODELO' ou 'FORMA' não existem.")

# Aqui ele fará uma leitura com base no total de itens cadastrados com base no que ele considera, neste exemplo é sobre regiões, mas pode ser usado para bairros, imobiliarias, forma e regiões
  # Verifica se o DataFrame df existe e não está vazio
if 'df' in globals() and not df.empty:
    # Configura a opção para exibir todas as linhas
    import pandas as pd
    pd.set_option('display.max_rows', None)
    pd.set_option('display.max_columns', None)

    # Conta a quantidade de imóveis por bairro
    contagem_por_bairro = df['REGIÃO'].value_counts()

    # Exibe o resultado (agora sem truncamento de linhas)
    print("Quantidade de imóveis por bairro:")
    print(contagem_por_bairro)

    # (Opcional) Redefine as opções para os valores padrão após a exibição
    # pd.reset_option('display.max_rows')
    # pd.reset_option('display.max_columns')

else:
    print("DataFrame 'df' não foi carregado ou está vazio. Não é possível contar por bairro.")

# Aqui ele fará um grafico com base na média aritmética, moda e mediana dos alugueis como exemplo:
import matplotlib.pyplot as plt
import seaborn as sns
import pandas as pd # Já deve estar importado

# Certifique-se que a coluna 'VALOR (Em Reais)' está tratada e numérica
df['VALOR (Em Reais)'] = pd.to_numeric(df['VALOR (Em Reais)'].astype(str).str.replace('[^0-9.,]', '', regex=True).str.replace(',', '.', regex=True), errors='coerce')
df.dropna(subset=['VALOR (Em Reais)'], inplace=True)

# --- NOVO PASSO: Filtrar apenas dados de ALUGUEL ---
# Verifique a capitalização exata da palavra 'Aluguel' na sua coluna 'FORMA'
df_aluguel = df[df['FORMA'] == 'Aluguel'].copy() # Use .copy() para evitar SettingWithCopyWarning

# Verifica se há registros de aluguel após a filtragem
if not df_aluguel.empty:
    # Calcula a média do valor SOMENTE para os dados de ALUGUEL
    media_valor_aluguel = df_aluguel['VALOR (Em Reais)'].mean()

    # Calcula a mediana do valor SOMENTE para os dados de ALUGUEL
    mediana_valor_aluguel = df_aluguel['VALOR (Em Reais)'].median()

    # Calcula a moda do valor SOMENTE para os dados de ALUGUEL
    moda_valor_aluguel = df_aluguel['VALOR (Em Reais)'].mode()

    # Exibe os resultados numéricos
    print("Estatísticas para a coluna VALOR - SOMENTE ALUGUEL:")
    print(f"Média do valor para aluguel: {media_valor_aluguel:.2f}")
    print(f"Mediana do valor para aluguel: {mediana_valor_aluguel:.2f}")
    print(f"Moda do valor para aluguel:")
    print(moda_valor_aluguel)

    # --- Gerar gráfico para Média, Mediana e Moda de Aluguel ---
    # É um pouco tricky colocar média, mediana e moda em um único gráfico de barras simples
    # Vamos criar um DataFrame pequeno para visualizá-los juntos

    # Prepare os dados para o gráfico
    estatisticas_para_plotar = {
        'Estatística': ['Média', 'Mediana'] + [f'Moda_{i+1}' for i in range(len(moda_valor_aluguel))],
        'Valor': [media_valor_aluguel, mediana_valor_aluguel] + moda_valor_aluguel.tolist()
    }
    df_plot = pd.DataFrame(estatisticas_para_plotar)


    plt.figure(figsize=(8, 5))
    sns.barplot(x='Estatística', y='Valor', data=df_plot, palette='viridis')
    plt.title('Média, Mediana e Moda dos Valores de Aluguel')
    plt.xlabel('Estatística')
    plt.ylabel('Valor (R$)')
    plt.show()


else:
    print("Nenhum registro de 'Aluguel' encontrado na coluna 'FORMA'. Verifique a capitalização ou o conteúdo da coluna.")

# Aqui ele fará uma leitura sobre a pesquisa entre todos os imoveis com aluguel que possuie o valor de R$ 800,00 (oitocentos reais)
  # Certifique-se que a coluna 'VALOR (Em Reais)' está tratada e numérica
# (Você já tem este código em seu notebook)
df['VALOR (Em Reais)'] = pd.to_numeric(df['VALOR (Em Reais)'].astype(str).str.replace('[^0-9.,]', '', regex=True).str.replace(',', '.', regex=True), errors='coerce')
df.dropna(subset=['VALOR (Em Reais)'], inplace=True)

# Define o valor que você quer procurar
valor_procurado = 800.00 # Use o valor com o mesmo tipo (float) da coluna

# Filtra o DataFrame para encontrar imóveis com o valor exato
imoveis_valor_800 = df[df['VALOR (Em Reais)'] == valor_procurado]

# Verifica se algum imóvel foi encontrado
if not imoveis_valor_800.empty:
    # Exibe os imóveis encontrados
    print(f"Imóveis com o valor exato de R$ {valor_procurado:.2f}:")
    print(imoveis_valor_800)
else:
    print(f"Nenhum imóvel encontrado com o valor exato de R$ {valor_procurado:.2f}.")
  
#Estes são alguns dos exemplos que foram gerados acima
